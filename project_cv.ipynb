{
 "cells": [
  {
   "cell_type": "code",
   "execution_count": 1,
   "metadata": {},
   "outputs": [],
   "source": [
    "from scipy.io import mmread\n",
    "import pandas as pd\n",
    "import numpy as np\n",
    "\n",
    "np.random.seed(42)"
   ]
  },
  {
   "cell_type": "code",
   "execution_count": 2,
   "metadata": {},
   "outputs": [
    {
     "data": {
      "text/plain": [
       "array(['normal', 'normal', 'normal', ..., 'cutaneous melanoma',\n",
       "       'cutaneous melanoma', 'cutaneous melanoma'], dtype=object)"
      ]
     },
     "execution_count": 2,
     "metadata": {},
     "output_type": "execute_result"
    }
   ],
   "source": [
    "df = pd.DataFrame(mmread('data/E-MTAB-10290.aggregated_filtered_normalised_counts.mtx').todense())\n",
    "\n",
    "# read the gene names from file and add them as row names\n",
    "with open('data/E-MTAB-10290.aggregated_filtered_normalised_counts.mtx_rows') as f:\n",
    "    gene_names = [i.split()[0] for i in f.read().splitlines()]\n",
    "df.index = gene_names\n",
    "\n",
    "# read the cell names from file and add them as column names\n",
    "with open('data/E-MTAB-10290.aggregated_filtered_normalised_counts.mtx_cols') as f:\n",
    "    cell_names = f.read().splitlines()\n",
    "df.columns = cell_names\n",
    "\n",
    "# transpose the dataframe so that the genes are the columns and the cells are the rows\n",
    "df = df.transpose()\n",
    "df\n",
    "# import the experimental design from tsv file\n",
    "design = pd.read_csv('data/ExpDesign-E-MTAB-10290.tsv', sep='\\t')\n",
    "\n",
    "# keep only the columns we need\n",
    "design = design[['Assay', 'Sample Characteristic[disease]']]\n",
    "design.columns = ['cell', 'disease']\n",
    "\n",
    "design.set_index('cell', inplace=True)\n",
    "\n",
    "design = np.ndarray.flatten(design.values)\n",
    "design"
   ]
  },
  {
   "cell_type": "code",
   "execution_count": 12,
   "metadata": {},
   "outputs": [
    {
     "data": {
      "text/plain": [
       "True"
      ]
     },
     "execution_count": 12,
     "metadata": {},
     "output_type": "execute_result"
    }
   ],
   "source": [
    "import torch\n",
    "import torch.nn as nn\n",
    "import torch.nn.functional as F\n",
    "import torch.optim as optim\n",
    "import torch.utils.data as data_utils\n",
    "import matplotlib.pyplot as plt\n",
    "from sklearn.model_selection import train_test_split\n",
    "from sklearn.preprocessing import LabelEncoder\n",
    "from sklearn.metrics import confusion_matrix, accuracy_score, classification_report\n",
    "from sklearn.metrics import f1_score\n",
    "\n",
    "# set the seed for reproducibility\n",
    "torch.manual_seed(42)\n",
    "torch.cuda.is_available()"
   ]
  },
  {
   "cell_type": "code",
   "execution_count": 4,
   "metadata": {},
   "outputs": [
    {
     "data": {
      "text/plain": [
       "device(type='cuda', index=0)"
      ]
     },
     "execution_count": 4,
     "metadata": {},
     "output_type": "execute_result"
    }
   ],
   "source": [
    "device = torch.device(\"cuda:0\" if torch.cuda.is_available() else \"cpu\")\n",
    "device"
   ]
  },
  {
   "cell_type": "code",
   "execution_count": 5,
   "metadata": {},
   "outputs": [
    {
     "data": {
      "text/plain": [
       "array(['cutaneous melanoma', 'normal'], dtype=object)"
      ]
     },
     "execution_count": 5,
     "metadata": {},
     "output_type": "execute_result"
    }
   ],
   "source": [
    "# encode the target labels into integers\n",
    "le = LabelEncoder()\n",
    "design = le.fit_transform(design.ravel())\n",
    "\n",
    "le.classes_"
   ]
  },
  {
   "cell_type": "code",
   "execution_count": 7,
   "metadata": {},
   "outputs": [],
   "source": [
    "# define the model\n",
    "class Net(nn.Module):\n",
    "    def __init__(self):\n",
    "        super(Net, self).__init__()\n",
    "        self.fc1 = nn.Linear(25511, 5000)\n",
    "        self.fc2 = nn.Linear(5000, 1000)\n",
    "        self.fc3 = nn.Linear(1000, 100)\n",
    "        self.fc4 = nn.Linear(100, 2)\n",
    "        self.dropout = nn.Dropout(0.2)\n",
    "\n",
    "    def forward(self, x):\n",
    "        x = F.relu(self.fc1(x))\n",
    "        x = self.dropout(x)\n",
    "        x = F.relu(self.fc2(x))\n",
    "        x = self.dropout(x)\n",
    "        x = F.relu(self.fc3(x))\n",
    "        return self.fc4(x)\n",
    "    \n",
    "# define the optimizer and the loss\n",
    "criterion = nn.CrossEntropyLoss()\n",
    "\n",
    "def reset_weights(m):\n",
    "  for layer in m.children():\n",
    "   if hasattr(layer, 'reset_parameters'):\n",
    "    print(f'Reset trainable parameters of layer = {layer}')\n",
    "    layer.reset_parameters()\n",
    "\n",
    "# define the training function\n",
    "def train(model, train_dl, optimizer, criterion):\n",
    "    model.train()\n",
    "    running_loss = 0\n",
    "    for i, (X_batch, y_batch) in enumerate(train_dl):\n",
    "        #if i % 100 == 0:\n",
    "            #print(i)\n",
    "        optimizer.zero_grad()\n",
    "        y_pred = model(X_batch.to(device))\n",
    "        loss = criterion(y_pred, y_batch.to(device))\n",
    "        loss.backward()\n",
    "        optimizer.step()\n",
    "        running_loss += loss.item()\n",
    "    train_loss = running_loss / len(train_dl)\n",
    "    return model, train_loss\n",
    "\n",
    "# define the testing function\n",
    "def val(model, test_dl, criterion):\n",
    "    model.eval()\n",
    "    running_loss = 0\n",
    "    correct, total = 0, 0\n",
    "    predictions, truth = [], []\n",
    "    with torch.no_grad():\n",
    "        for i, (X_batch, y_batch) in enumerate(test_dl):\n",
    "            y_pred = model(X_batch.to(device))\n",
    "            loss = criterion(y_pred, y_batch.to(device))\n",
    "            running_loss += loss.item()\n",
    "            _, predicted = torch.max(y_pred.data, 1)\n",
    "            predictions.extend(predicted.cpu().numpy())\n",
    "            truth.extend(y_batch.cpu().numpy())\n",
    "            total += y_batch.size(0)\n",
    "            correct += (predicted == y_batch.to(device)).sum().item()\n",
    "    val_loss = running_loss / len(test_dl)\n",
    "    return val_loss, f1_score(y_batch.cpu().numpy(), predicted.cpu().numpy()), predictions, truth"
   ]
  },
  {
   "cell_type": "code",
   "execution_count": 9,
   "metadata": {},
   "outputs": [
    {
     "name": "stdout",
     "output_type": "stream",
     "text": [
      "(20442, 25511) (8761, 25511) (20442,) (8761,)\n"
     ]
    }
   ],
   "source": [
    "# do cv and test split\n",
    "X_train, X_test, y_train, y_test = train_test_split(df, design, test_size=0.3, random_state=42, stratify=design)\n",
    "print(X_train.shape, X_test.shape, y_train.shape, y_test.shape)"
   ]
  },
  {
   "cell_type": "code",
   "execution_count": 10,
   "metadata": {},
   "outputs": [
    {
     "name": "stdout",
     "output_type": "stream",
     "text": [
      "--------------------------------\n",
      "FOLD 0\n",
      "--------------------------------\n",
      "Reset trainable parameters of layer = Linear(in_features=25511, out_features=5000, bias=True)\n",
      "Reset trainable parameters of layer = Linear(in_features=5000, out_features=1000, bias=True)\n",
      "Reset trainable parameters of layer = Linear(in_features=1000, out_features=100, bias=True)\n",
      "Reset trainable parameters of layer = Linear(in_features=100, out_features=2, bias=True)\n",
      "Starting epoch 1\n",
      "| Epoch: 01 | Train Loss: 0.595 | Val Loss: 0.249 | Val F1: 1.00 |\n",
      "Starting epoch 2\n",
      "| Epoch: 02 | Train Loss: 0.066 | Val Loss: 0.004 | Val F1: 1.00 |\n",
      "Training process has finished. Saving trained model.\n",
      "Starting testing\n",
      "Accuracy for fold 0: 99 %\n",
      "--------------------------------\n",
      "FOLD 1\n",
      "--------------------------------\n",
      "Reset trainable parameters of layer = Linear(in_features=25511, out_features=5000, bias=True)\n",
      "Reset trainable parameters of layer = Linear(in_features=5000, out_features=1000, bias=True)\n",
      "Reset trainable parameters of layer = Linear(in_features=1000, out_features=100, bias=True)\n",
      "Reset trainable parameters of layer = Linear(in_features=100, out_features=2, bias=True)\n",
      "Starting epoch 1\n"
     ]
    },
    {
     "name": "stderr",
     "output_type": "stream",
     "text": [
      "/home/debian/miniconda3/envs/MVI_Vojta2/lib/python3.8/site-packages/sklearn/metrics/_classification.py:1760: UndefinedMetricWarning: F-score is ill-defined and being set to 0.0 due to no true nor predicted samples. Use `zero_division` parameter to control this behavior.\n",
      "  _warn_prf(average, \"true nor predicted\", \"F-score is\", len(true_sum))\n"
     ]
    },
    {
     "name": "stdout",
     "output_type": "stream",
     "text": [
      "| Epoch: 01 | Train Loss: 0.512 | Val Loss: 0.199 | Val F1: 0.00 |\n",
      "Starting epoch 2\n",
      "| Epoch: 02 | Train Loss: 0.080 | Val Loss: 0.051 | Val F1: 1.00 |\n",
      "Training process has finished. Saving trained model.\n",
      "Starting testing\n",
      "Accuracy for fold 1: 99 %\n",
      "--------------------------------\n",
      "FOLD 2\n",
      "--------------------------------\n",
      "Reset trainable parameters of layer = Linear(in_features=25511, out_features=5000, bias=True)\n",
      "Reset trainable parameters of layer = Linear(in_features=5000, out_features=1000, bias=True)\n",
      "Reset trainable parameters of layer = Linear(in_features=1000, out_features=100, bias=True)\n",
      "Reset trainable parameters of layer = Linear(in_features=100, out_features=2, bias=True)\n",
      "Starting epoch 1\n",
      "| Epoch: 01 | Train Loss: 0.715 | Val Loss: 0.388 | Val F1: 1.00 |\n",
      "Starting epoch 2\n",
      "| Epoch: 02 | Train Loss: 0.130 | Val Loss: 0.022 | Val F1: 1.00 |\n",
      "Training process has finished. Saving trained model.\n",
      "Starting testing\n",
      "Accuracy for fold 2: 99 %\n",
      "--------------------------------\n",
      "K-FOLD CROSS VALIDATION RESULTS FOR 3 FOLDS\n",
      "--------------------------------\n",
      "Fold 0: 99.94936708860759 %\n",
      "Fold 1: 99.87322515212982 %\n",
      "Fold 2: 99.92410827219832 %\n",
      "Average: 99.91556683764524 %\n"
     ]
    }
   ],
   "source": [
    "# train by 5-fold cross-validation for 5 epochs\n",
    "from sklearn.model_selection import StratifiedKFold\n",
    "\n",
    "k_folds = 3\n",
    "num_epochs = 2\n",
    "  \n",
    "# For fold results\n",
    "results = {}\n",
    "  \n",
    "# Define the K-fold Cross Validator\n",
    "kfold = StratifiedKFold(n_splits=k_folds, shuffle=True)\n",
    "\n",
    "# Start print\n",
    "print('--------------------------------')\n",
    "\n",
    "# K-fold Cross Validation model evaluation\n",
    "for fold, (train_ids, test_ids) in enumerate(kfold.split(X_train, y_train.ravel())):\n",
    "\n",
    "    # Print\n",
    "    print(f'FOLD {fold}')\n",
    "    print('--------------------------------')\n",
    "\n",
    "    # Sample elements randomly from a given list of ids, no replacement.\n",
    "    train_subsampler = torch.utils.data.SubsetRandomSampler(train_ids)\n",
    "    test_subsampler = torch.utils.data.SubsetRandomSampler(test_ids)\n",
    "\n",
    "    # Define the datsets\n",
    "    dataset = data_utils.TensorDataset(torch.tensor(X_train.values.astype(np.float32)), torch.tensor(y_train.ravel()))\n",
    "\n",
    "    # Define data loaders for training and testing data in this fold\n",
    "    trainloader = torch.utils.data.DataLoader(dataset, batch_size=10, sampler=train_subsampler)\n",
    "    testloader = torch.utils.data.DataLoader(dataset, batch_size=10, sampler=test_subsampler)\n",
    "\n",
    "    # Init the neural network\n",
    "    model = Net()\n",
    "    model.to(device)\n",
    "    model.apply(reset_weights)\n",
    "\n",
    "    # Initialize optimizer\n",
    "    optimizer = torch.optim.Adam(model.parameters(), lr=1e-4)\n",
    "\n",
    "    train_losses, val_losses, val_f1s = [], [], []\n",
    "\n",
    "    # Run the training loop for defined number of epochs\n",
    "    for epoch in range(0, num_epochs):\n",
    "\n",
    "        # Print epoch\n",
    "        print(f'Starting epoch {epoch+1}')\n",
    "\n",
    "        model, train_loss = train(model, trainloader, optimizer, criterion)\n",
    "        val_loss, val_f1, _, _ = val(model, testloader, criterion)\n",
    "        train_losses.append(train_loss)\n",
    "        val_losses.append(val_loss)\n",
    "        val_f1s.append(val_f1)\n",
    "        print(f'| Epoch: {epoch+1:02} | Train Loss: {train_loss:.3f} | Val Loss: {val_loss:.3f} | Val F1: {val_f1:.2f} |')\n",
    "\n",
    "    # Process is complete.\n",
    "    print('Training process has finished. Saving trained model.')\n",
    "\n",
    "    # Print about testing\n",
    "    print('Starting testing')\n",
    "\n",
    "    # Saving the model\n",
    "    save_path = f'./model-fold-{fold}.pth'\n",
    "    torch.save(model.state_dict(), save_path)\n",
    "\n",
    "    # Evaluation for this fold\n",
    "    y_true_final, y_pred_final = [], []\n",
    "    with torch.no_grad():\n",
    "\n",
    "        # Iterate over the test data and generate predictions\n",
    "        for i, (X_batch, y_batch) in enumerate(testloader):\n",
    "\n",
    "            # Generate outputs\n",
    "            outputs = model(X_batch.to(device))\n",
    "\n",
    "            # Set total and correct\n",
    "            _, predicted = torch.max(outputs.data, 1)\n",
    "            y_true_final.extend(y_batch.cpu().numpy())\n",
    "            y_pred_final.extend(predicted.cpu().numpy())\n",
    "\n",
    "    f1_final = f1_score(y_true_final, y_pred_final)\n",
    "\n",
    "    # Print accuracy\n",
    "    print('Accuracy for fold %d: %d %%' % (fold, 100.0 * f1_final))\n",
    "    print('--------------------------------')\n",
    "    results[fold] = 100.0 * f1_final\n",
    "    \n",
    "# Print fold results\n",
    "print(f'K-FOLD CROSS VALIDATION RESULTS FOR {k_folds} FOLDS')\n",
    "print('--------------------------------')\n",
    "sum = 0.0\n",
    "for key, value in results.items():\n",
    "    print(f'Fold {key}: {value} %')\n",
    "    sum += value\n",
    "print(f'Average: {sum/len(results.items())} %')"
   ]
  },
  {
   "cell_type": "code",
   "execution_count": 15,
   "metadata": {},
   "outputs": [
    {
     "name": "stdout",
     "output_type": "stream",
     "text": [
      "F1 of the network on the test set: 99 %\n",
      "              precision    recall  f1-score   support\n",
      "\n",
      "           0       1.00      1.00      1.00      3683\n",
      "           1       1.00      1.00      1.00      5078\n",
      "\n",
      "    accuracy                           1.00      8761\n",
      "   macro avg       1.00      1.00      1.00      8761\n",
      "weighted avg       1.00      1.00      1.00      8761\n",
      "\n",
      "[[3671   12]\n",
      " [   5 5073]]\n"
     ]
    },
    {
     "data": {
      "image/png": "[encoded data removed]",
      "text/plain": [
       "<Figure size 640x480 with 1 Axes>"
      ]
     },
     "metadata": {},
     "output_type": "display_data"
    }
   ],
   "source": [
    "# predict on the test set\n",
    "model = Net()\n",
    "model.to(device)\n",
    "model.load_state_dict(torch.load('model-fold-0.pth'))\n",
    "model.eval()\n",
    "with torch.no_grad():\n",
    "    y_pred = model(torch.tensor(X_test.values.astype(np.float32)).to(device))\n",
    "    _, predicted = torch.max(y_pred.data, 1)\n",
    "    print('F1 of the network on the test set: %d %%' % (100 * f1_score(y_test, predicted.cpu().numpy())))\n",
    "    print(classification_report(y_test, predicted.cpu().numpy()))\n",
    "\n",
    "    # Compute confusion matrix\n",
    "    cnf_matrix = confusion_matrix(y_test, predicted.cpu().numpy())\n",
    "    print(cnf_matrix)\n",
    "\n",
    "# plot roc curve\n",
    "from sklearn.metrics import roc_curve, auc\n",
    "fpr, tpr, thresholds = roc_curve(y_test, predicted.cpu().numpy())\n",
    "roc_auc = auc(fpr, tpr)\n",
    "plt.figure()\n",
    "plt.plot(fpr, tpr, color='darkorange',\n",
    "         lw=2, label='ROC curve (area = %0.3f)' % roc_auc)\n",
    "plt.plot([0, 1], [0, 1], color='navy', lw=2, linestyle='--', label='Random Guess')\n",
    "plt.xlim([0.0, 1.0])\n",
    "plt.ylim([0.0, 1.05])\n",
    "plt.xlabel('1 - Specificity')\n",
    "plt.ylabel('Sensitivity')\n",
    "plt.title('ROC Curve')\n",
    "plt.legend(loc=\"lower right\")\n",
    "plt.show()"
   ]
  }
 ],
 "metadata": {
  "kernelspec": {
   "display_name": "MVI",
   "language": "python",
   "name": "python3"
  },
  "language_info": {
   "codemirror_mode": {
    "name": "ipython",
    "version": 3
   },
   "file_extension": ".py",
   "mimetype": "text/x-python",
   "name": "python",
   "nbconvert_exporter": "python",
   "pygments_lexer": "ipython3",
   "version": "3.8.18"
  }
 },
 "nbformat": 4,
 "nbformat_minor": 2
}
